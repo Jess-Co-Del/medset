{
 "cells": [
  {
   "cell_type": "code",
   "execution_count": null,
   "id": "724926a8-f419-49a3-b1b8-35b5f8e1b29d",
   "metadata": {
    "scrolled": true
   },
   "outputs": [],
   "source": [
    "from medloader.api import DatasetEngine\n",
    "from medloader.app import config as config\n",
    "from medloader.app.logger import init_logger\n",
    "\n",
    "from torch.utils.data import DataLoader\n",
    "\n",
    "logger = init_logger()\n",
    "\n",
    "cfg = config.Configuration()\n",
    "\n",
    "engine = DatasetEngine(\n",
    "    logger=logger,\n",
    "    config=cfg,\n",
    ").go(mode=\"config\")\n",
    "\n",
    "batch_size = 8\n",
    "\n",
    "dl = DataLoader(\n",
    "    dataset=engine[0],\n",
    "    batch_size=batch_size,\n",
    "    pin_memory=True,\n",
    "    shuffle=False,\n",
    "    #sampler=DistributedSampler(dataset)\n",
    ")"
   ]
  },
  {
   "cell_type": "code",
   "execution_count": null,
   "id": "76816b96-cff6-45b7-886e-53d3e945257c",
   "metadata": {},
   "outputs": [],
   "source": [
    "gpu_id = 1\n",
    "from tqdm import tqdm\n",
    "\n",
    "with tqdm(dl) as pbar:\n",
    "    for i, batch in enumerate(pbar):\n",
    "        source = batch[\"image\"].to(gpu_id)\n",
    "        targets = batch[\"target\"].to(gpu_id)\n",
    "        print(batch[\"args\"])\n"
   ]
  }
 ],
 "metadata": {
  "kernelspec": {
   "display_name": "Python 3 (ipykernel)",
   "language": "python",
   "name": "python3"
  },
  "language_info": {
   "codemirror_mode": {
    "name": "ipython",
    "version": 3
   },
   "file_extension": ".py",
   "mimetype": "text/x-python",
   "name": "python",
   "nbconvert_exporter": "python",
   "pygments_lexer": "ipython3",
   "version": "3.10.0"
  }
 },
 "nbformat": 4,
 "nbformat_minor": 5
}
