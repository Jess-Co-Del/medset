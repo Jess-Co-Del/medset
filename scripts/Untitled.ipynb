{
 "cells": [
  {
   "cell_type": "code",
   "execution_count": null,
   "id": "724926a8-f419-49a3-b1b8-35b5f8e1b29d",
   "metadata": {
    "scrolled": true
   },
   "outputs": [],
   "source": [
    "from medloader.api import DatasetEngine\n",
    "from medloader.app import config as config\n",
    "from medloader.app.logger import init_logger\n",
    "\n",
    "logger = init_logger()\n",
    "\n",
    "cfg = config.Configuration()\n",
    "\n",
    "engine = DatasetEngine(\n",
    "    logger=logger,\n",
    "    config=cfg,\n",
    ").go(mode=\"config\")\n"
   ]
  },
  {
   "cell_type": "code",
   "execution_count": null,
   "id": "f4a750b4-fe6b-419f-b6a8-fb8afa6c3812",
   "metadata": {},
   "outputs": [],
   "source": [
    "batch_size = 8\n",
    "from torch.utils.data import DataLoader\n",
    "\n",
    "dl = DataLoader(\n",
    "            dataset=engine[0],\n",
    "            batch_size=batch_size,\n",
    "            pin_memory=True,\n",
    "            shuffle=False,\n",
    "            #sampler=DistributedSampler(dataset)\n",
    "        )"
   ]
  },
  {
   "cell_type": "code",
   "execution_count": null,
   "id": "9dbd78bc-2476-4c5d-be83-6924c15cfffa",
   "metadata": {},
   "outputs": [],
   "source": [
    "dl\n"
   ]
  },
  {
   "cell_type": "code",
   "execution_count": null,
   "id": "76816b96-cff6-45b7-886e-53d3e945257c",
   "metadata": {},
   "outputs": [],
   "source": [
    "gpu_id = 1\n",
    "from tqdm import tqdm\n",
    "\n",
    "with tqdm(dl) as pbar:\n",
    "    for i, batch in enumerate(pbar):\n",
    "        source = batch[\"image\"].to(gpu_id)\n",
    "        targets = batch[\"target\"].to(gpu_id)\n",
    "        print(batch[\"args\"])\n"
   ]
  },
  {
   "cell_type": "code",
   "execution_count": null,
   "id": "600e2146-8766-4c84-bb41-643bffb4dd38",
   "metadata": {},
   "outputs": [],
   "source": [
    "%matplotlib inline\n",
    "import matplotlib.pyplot as plt\n",
    "import os\n",
    "import pydicom as dicom\n",
    "import numpy as np"
   ]
  },
  {
   "cell_type": "code",
   "execution_count": null,
   "id": "ea445370",
   "metadata": {},
   "outputs": [],
   "source": [
    "source.shape\n"
   ]
  },
  {
   "cell_type": "code",
   "execution_count": null,
   "id": "43019cf0-3661-4f17-8019-c4adf77b23c1",
   "metadata": {
    "scrolled": true
   },
   "outputs": [],
   "source": [
    "\n",
    "slic = 1400\n",
    "plt.imshow(source.shape[0,0,:,:])\n"
   ]
  },
  {
   "cell_type": "code",
   "execution_count": null,
   "id": "d51386d7-1f71-4481-9562-11eeceb6a6de",
   "metadata": {},
   "outputs": [],
   "source": [
    "labels = engine[0][slic][\"target\"][0,:,:]\n",
    "plt.imshow(labels)\n",
    "np.unique(labels, return_counts=True)"
   ]
  },
  {
   "cell_type": "code",
   "execution_count": null,
   "id": "98cb6b80-e250-4862-bf94-0cdd1af800f7",
   "metadata": {},
   "outputs": [],
   "source": [
    "patient_folder = \"/dataset/3Dircadb1.18\"\n",
    "mask_folder = \"MASKS_DICOM\"\n",
    "masks_paths = [\n",
    "                os.path.join(\n",
    "                   patient_folder, mask_folder, maskdir\n",
    "                ) for maskdir in  os.listdir(\n",
    "                    os.path.join(patient_folder, mask_folder)\n",
    "                ) if \"livertumor\" in maskdir\n",
    "           ]\n",
    "masks_paths.append(os.path.join(patient_folder, mask_folder, \"liver\"))\n",
    "print (masks_paths)"
   ]
  },
  {
   "cell_type": "code",
   "execution_count": null,
   "id": "d6377b5b-d32d-4284-99b7-fdb2c6d3fb04",
   "metadata": {},
   "outputs": [],
   "source": [
    "\n",
    "scan_id = 50\n",
    "image_name_prefix = \"image_\"\n",
    "mask_name_prefix = \"segmentation_\"\n",
    "patient_scan = dicom.dcmread(\n",
    "            os.path.join(patient_folder+\"/PATIENT_DICOM\", f'{image_name_prefix}{scan_id}')\n",
    "        ).pixel_array.astype(np.float32)\n",
    "\n",
    "label_scan = np.zeros(patient_scan.shape)\n",
    "for folder in masks_paths:\n",
    "    label_slice = dicom.dcmread(\n",
    "            os.path.join(folder, f'{image_name_prefix}{scan_id}')\n",
    "        ).pixel_array.astype(np.float32)/255\n",
    "    print(folder, label_slice.max(), label_slice.min())\n",
    "    if \"livertumor\" in folder:\n",
    "        label_slice *= 2\n",
    "\n",
    "    label_scan += label_slice"
   ]
  },
  {
   "cell_type": "code",
   "execution_count": null,
   "id": "6984990a-87f8-420a-87fd-976970399b59",
   "metadata": {},
   "outputs": [],
   "source": [
    "plt.imshow(label_scan)\n",
    "os.path.join(folder, f'{mask_name_prefix}{scan_id}')"
   ]
  },
  {
   "cell_type": "code",
   "execution_count": null,
   "id": "f73cc75a-2863-4d75-8ae1-4ecf1f21ba2a",
   "metadata": {},
   "outputs": [],
   "source": [
    "from medloader.loaders.preprocess_utils.mask_edges import clip_data\n",
    "PATCH_SIZE = 300\n",
    "image, mask = clip_data(patient_scan, label_scan, PATCH_SIZE)"
   ]
  },
  {
   "cell_type": "code",
   "execution_count": null,
   "id": "895338bc-5f9c-4732-87c5-727724a6879a",
   "metadata": {},
   "outputs": [],
   "source": [
    "plt.imshow(image)\n"
   ]
  },
  {
   "cell_type": "code",
   "execution_count": null,
   "id": "9c040338-08f6-4c91-99ad-c5c2668d3863",
   "metadata": {},
   "outputs": [],
   "source": [
    "plt.imshow(label_slice*255)\n",
    "np.unique(label_slice*255, return_counts=True)"
   ]
  },
  {
   "cell_type": "code",
   "execution_count": null,
   "id": "ddfdb733-e6a1-4279-90a5-fb4b6d8a9a84",
   "metadata": {},
   "outputs": [],
   "source": [
    "np.save(\n",
    "    \"test.npy\",\n",
    "    mask\n",
    ")"
   ]
  },
  {
   "cell_type": "code",
   "execution_count": null,
   "id": "5c02762c-dc3f-49ee-9bb1-1434d6f4cc51",
   "metadata": {},
   "outputs": [],
   "source": [
    "plt.imshow(np.load(\"/dataset/clipped/3Dircadb1.17/segmentation_106.npy\").astype(np.int16)[:PATCH_SIZE, :PATCH_SIZE])"
   ]
  },
  {
   "cell_type": "code",
   "execution_count": null,
   "id": "60b229b4-220c-44be-9703-cf1a256d9ff1",
   "metadata": {},
   "outputs": [],
   "source": [
    "mask[mask > 2] = 2\n",
    "np.unique(mask, return_counts=True)"
   ]
  },
  {
   "cell_type": "code",
   "execution_count": null,
   "id": "5d395b33-faa8-4c83-96d8-f56ff2c8b12f",
   "metadata": {},
   "outputs": [],
   "source": [
    "plt.imshow(np.load('/dataset/clipped/3Dircadb1.17/segmentation_106.npy'))"
   ]
  },
  {
   "cell_type": "code",
   "execution_count": null,
   "id": "72b2e3ac-f5b7-4524-9816-29e118f7c7d3",
   "metadata": {},
   "outputs": [],
   "source": [
    "mask = np.load('/dataset/clipped/3Dircadb1.17/segmentation_106.npy')\n",
    "mask.max()"
   ]
  }
 ],
 "metadata": {
  "kernelspec": {
   "display_name": "Python 3 (ipykernel)",
   "language": "python",
   "name": "python3"
  },
  "language_info": {
   "codemirror_mode": {
    "name": "ipython",
    "version": 3
   },
   "file_extension": ".py",
   "mimetype": "text/x-python",
   "name": "python",
   "nbconvert_exporter": "python",
   "pygments_lexer": "ipython3",
   "version": "3.10.0"
  }
 },
 "nbformat": 4,
 "nbformat_minor": 5
}
